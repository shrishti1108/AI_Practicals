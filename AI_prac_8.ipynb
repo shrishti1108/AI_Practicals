{
  "nbformat": 4,
  "nbformat_minor": 0,
  "metadata": {
    "colab": {
      "provenance": []
    },
    "kernelspec": {
      "name": "python3",
      "display_name": "Python 3"
    },
    "language_info": {
      "name": "python"
    }
  },
  "cells": [
    {
      "cell_type": "code",
      "execution_count": 1,
      "metadata": {
        "colab": {
          "base_uri": "https://localhost:8080/"
        },
        "id": "jl1Eb5Hdm34z",
        "outputId": "a650b4c5-0750-445f-df57-3cf9dfb3721d"
      },
      "outputs": [
        {
          "output_type": "stream",
          "name": "stdout",
          "text": [
            "  |   |  \n",
            "-----\n",
            "  |   |  \n",
            "-----\n",
            "  |   |  \n",
            "-----\n",
            "Player X's turn.\n",
            "Enter row (0-2): 0\n",
            "Enter col (0-2): 0\n",
            "X |   |  \n",
            "-----\n",
            "  |   |  \n",
            "-----\n",
            "  |   |  \n",
            "-----\n",
            "Player O's turn.\n",
            "Enter row (0-2): 1\n",
            "Enter col (0-2): 1\n",
            "X |   |  \n",
            "-----\n",
            "  | O |  \n",
            "-----\n",
            "  |   |  \n",
            "-----\n",
            "Player X's turn.\n",
            "Enter row (0-2): 0\n",
            "Enter col (0-2): 1\n",
            "X | X |  \n",
            "-----\n",
            "  | O |  \n",
            "-----\n",
            "  |   |  \n",
            "-----\n",
            "Player O's turn.\n",
            "Enter row (0-2): 2\n",
            "Enter col (0-2): 2\n",
            "X | X |  \n",
            "-----\n",
            "  | O |  \n",
            "-----\n",
            "  |   | O\n",
            "-----\n",
            "Player X's turn.\n",
            "Enter row (0-2): 0\n",
            "Enter col (0-2): 2\n",
            "X | X | X\n",
            "-----\n",
            "  | O |  \n",
            "-----\n",
            "  |   | O\n",
            "-----\n",
            "Player X wins!\n"
          ]
        }
      ],
      "source": [
        "#8.Implement Tic-Tac-Toe game using Python\n",
        "\n",
        "def print_board(board):\n",
        "    for row in board:\n",
        "        print(\" | \".join(row))\n",
        "        print(\"-\" * 5)\n",
        "\n",
        "def check_winner(board, player):\n",
        "    # Check rows, columns and diagonals\n",
        "    for i in range(3):\n",
        "        if all(s == player for s in board[i]) or all(row[i] == player for row in board):\n",
        "            return True\n",
        "    return board[0][0] == board[1][1] == board[2][2] == player or \\\n",
        "           board[0][2] == board[1][1] == board[2][0] == player\n",
        "\n",
        "def tic_tac_toe():\n",
        "    board = [[\" \"] * 3 for _ in range(3)]\n",
        "    players = [\"X\", \"O\"]\n",
        "    turn = 0\n",
        "\n",
        "    for _ in range(9):\n",
        "        print_board(board)\n",
        "        player = players[turn % 2]\n",
        "        print(f\"Player {player}'s turn.\")\n",
        "        row = int(input(\"Enter row (0-2): \"))\n",
        "        col = int(input(\"Enter col (0-2): \"))\n",
        "\n",
        "        if board[row][col] == \" \":\n",
        "            board[row][col] = player\n",
        "            if check_winner(board, player):\n",
        "                print_board(board)\n",
        "                print(f\"Player {player} wins!\")\n",
        "                return\n",
        "            turn += 1\n",
        "        else:\n",
        "            print(\"Cell already taken. Try again.\")2\n",
        "\n",
        "    print_board(board)\n",
        "    print(\"It's a draw\")\n",
        "\n",
        "tic_tac_toe()\n"
      ]
    }
  ]
}