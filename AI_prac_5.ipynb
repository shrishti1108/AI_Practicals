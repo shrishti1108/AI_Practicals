{
  "nbformat": 4,
  "nbformat_minor": 0,
  "metadata": {
    "colab": {
      "provenance": []
    },
    "kernelspec": {
      "name": "python3",
      "display_name": "Python 3"
    },
    "language_info": {
      "name": "python"
    }
  },
  "cells": [
    {
      "cell_type": "code",
      "execution_count": 1,
      "metadata": {
        "colab": {
          "base_uri": "https://localhost:8080/"
        },
        "id": "6A5aj3TFleXe",
        "outputId": "f10149f6-56d4-451a-c526-24ab1234ff4e"
      },
      "outputs": [
        {
          "output_type": "stream",
          "name": "stdout",
          "text": [
            "TF-IDF Matrix:\n",
            "[[0.         0.         0.3564574  0.         0.         0.\n",
            "  0.         0.3564574  0.46869865 0.46869865 0.55364194]\n",
            " [0.         0.         0.         0.3564574  0.46869865 0.\n",
            "  0.46869865 0.3564574  0.         0.         0.55364194]\n",
            " [0.42439575 0.42439575 0.32276391 0.32276391 0.         0.42439575\n",
            "  0.         0.         0.         0.         0.50130994]]\n",
            "\n",
            "Feature Names (Terms):\n",
            "['and' 'are' 'cat' 'dog' 'fog' 'friends' 'in' 'is' 'mat' 'on' 'the']\n",
            "\n",
            "TF-IDF values for each term in each document:\n",
            "\n",
            "Document 1: The cat is on the mat\n",
            "and: 0.0000\n",
            "are: 0.0000\n",
            "cat: 0.3565\n",
            "dog: 0.0000\n",
            "fog: 0.0000\n",
            "friends: 0.0000\n",
            "in: 0.0000\n",
            "is: 0.3565\n",
            "mat: 0.4687\n",
            "on: 0.4687\n",
            "the: 0.5536\n",
            "\n",
            "Document 2: The dog is in the fog\n",
            "and: 0.0000\n",
            "are: 0.0000\n",
            "cat: 0.0000\n",
            "dog: 0.3565\n",
            "fog: 0.4687\n",
            "friends: 0.0000\n",
            "in: 0.4687\n",
            "is: 0.3565\n",
            "mat: 0.0000\n",
            "on: 0.0000\n",
            "the: 0.5536\n",
            "\n",
            "Document 3: The cat and the dog are friends\n",
            "and: 0.4244\n",
            "are: 0.4244\n",
            "cat: 0.3228\n",
            "dog: 0.3228\n",
            "fog: 0.0000\n",
            "friends: 0.4244\n",
            "in: 0.0000\n",
            "is: 0.0000\n",
            "mat: 0.0000\n",
            "on: 0.0000\n",
            "the: 0.5013\n"
          ]
        }
      ],
      "source": [
        "#5 Write a python program to find Term Frequency and Inverse Document Frequency (TF-IDF).\n",
        "\n",
        "from sklearn.feature_extraction.text import TfidfVectorizer\n",
        "\n",
        "documents = [\n",
        "    \"The cat is on the mat\",\n",
        "    \"The dog is in the fog\",\n",
        "    \"The cat and the dog are friends\"\n",
        "]\n",
        "\n",
        "vectorizer = TfidfVectorizer()\n",
        "\n",
        "tfidf_matrix = vectorizer.fit_transform(documents)\n",
        "\n",
        "terms = vectorizer.get_feature_names_out()\n",
        "\n",
        "dense_matrix = tfidf_matrix.todense()\n",
        "\n",
        "print(\"TF-IDF Matrix:\")\n",
        "print(dense_matrix)\n",
        "\n",
        "print(\"\\nFeature Names (Terms):\")\n",
        "print(terms)\n",
        "\n",
        "print(\"\\nTF-IDF values for each term in each document:\")\n",
        "for i, doc in enumerate(documents):\n",
        "    print(f\"\\nDocument {i+1}: {doc}\")\n",
        "    for j, term in enumerate(terms):\n",
        "      print(f\"{term}: {dense_matrix[i, j]:.4f}\")"
      ]
    }
  ]
}