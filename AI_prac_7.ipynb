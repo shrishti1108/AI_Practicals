{
  "nbformat": 4,
  "nbformat_minor": 0,
  "metadata": {
    "colab": {
      "provenance": []
    },
    "kernelspec": {
      "name": "python3",
      "display_name": "Python 3"
    },
    "language_info": {
      "name": "python"
    }
  },
  "cells": [
    {
      "cell_type": "code",
      "execution_count": 1,
      "metadata": {
        "colab": {
          "base_uri": "https://localhost:8080/"
        },
        "id": "Xfx7DMDAm2e_",
        "outputId": "d81bd4d9-c45d-408b-cb6a-8cef16711dba"
      },
      "outputs": [
        {
          "output_type": "stream",
          "name": "stdout",
          "text": [
            "NLP Classification Results\n",
            "Doc 1: Actual = 2, Predicted = 0\n",
            "Doc 2: Actual = 1, Predicted = 1\n",
            "Doc 3: Actual = 1, Predicted = 1\n",
            "\n",
            "Evaluation Metrics\n",
            "Accuracy       : 0.67\n",
            "Precision      : 0.67\n",
            "Recall         : 0.67\n",
            "F1 Score       : 0.67\n"
          ]
        }
      ],
      "source": [
        "#7 Implement AI algorithms for NLP analysis\n",
        "\n",
        "from sklearn.feature_extraction.text import TfidfVectorizer\n",
        "from sklearn.model_selection import train_test_split\n",
        "from sklearn.naive_bayes import MultinomialNB\n",
        "from sklearn.metrics import accuracy_score, precision_score, recall_score, f1_score\n",
        "\n",
        "documents = [\n",
        "    \"The weather today is sunny with clear skies\",\n",
        "    \"Artificial intelligence is transforming healthcare\",\n",
        "    \"I love reading books on historical events\",\n",
        "    \"AI chatbots are improving customer service\",\n",
        "    \"Rainy days make me feel nostalgic\",\n",
        "    \"Hospitals use machine learning to predict diseases\",\n",
        "    \"A walk in nature boosts mental health\",\n",
        "    \"Doctors rely on data to make better decisions\",\n",
        "    \"Watching documentaries is my weekend ritual\",\n",
        "    \"Healthcare systems benefit from real-time analytics\"\n",
        "]\n",
        "\n",
        "labels = [0, 1, 2, 1, 0, 1, 0, 1, 2, 1]\n",
        "\n",
        "vectorizer = TfidfVectorizer()\n",
        "X = vectorizer.fit_transform(documents)\n",
        "\n",
        "X_train, X_test, y_train, y_test = train_test_split(X, labels, test_size=0.3, random_state=42)\n",
        "model = MultinomialNB()\n",
        "model.fit(X_train, y_train)\n",
        "pred = model.predict(X_test)\n",
        "acc = accuracy_score(y_test, pred)\n",
        "\n",
        "print(\"NLP Classification Results\")\n",
        "for i, (actual, predicted) in enumerate(zip(y_test, pred)):\n",
        "    print(f\"Doc {i+1}: Actual = {actual}, Predicted = {predicted}\")\n",
        "\n",
        "print(\"\\nEvaluation Metrics\")\n",
        "print(f\"Accuracy       : {accuracy_score(y_test, pred):.2f}\")\n",
        "print(f\"Precision      : {precision_score(y_test, pred, average='weighted', zero_division=0):.2f}\")\n",
        "print(f\"Recall         : {recall_score(y_test, pred, average='weighted', zero_division=0):.2f}\")\n",
        "print(f\"F1 Score       : {f1_score(y_test, pred, average='weighted', zero_division=0):.2f}\")"
      ]
    }
  ]
}